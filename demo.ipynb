{
 "cells": [
  {
   "cell_type": "markdown",
   "metadata": {},
   "source": [
    "## Demo Scripts for the wfdb-python package\n",
    "\n",
    "Run this script from the base directory of the git repository to access the included demo files"
   ]
  },
  {
   "cell_type": "code",
   "execution_count": null,
   "metadata": {
    "collapsed": false
   },
   "outputs": [],
   "source": [
    "import wfdb\n",
    "import numpy as np\n",
    "import os\n",
    "from IPython.display import display"
   ]
  },
  {
   "cell_type": "markdown",
   "metadata": {},
   "source": [
    "### Reading Records and Annotations"
   ]
  },
  {
   "cell_type": "code",
   "execution_count": null,
   "metadata": {
    "collapsed": false
   },
   "outputs": [],
   "source": [
    "# Demo 1 - Read a wfdb record using the 'rdsamp' function into a wfdb.Record object.\n",
    "# Plot the signals, and show the data.\n",
    "record = wfdb.rdsamp('sampledata/a103l') \n",
    "wfdb.plotrec(record, title='Record a103l from Physionet Challenge 2015') \n",
    "display(record.__dict__)\n",
    "\n",
    "\n",
    "# Can also read the same files hosted on Physiobank https://physionet.org/physiobank/database/\n",
    "# in the challenge/2015/training/ database subdirectory. Full url = https://physionet.org/physiobank/database/challenge/2015/training/\n",
    "record2 = wfdb.rdsamp('a103l', pbdir = 'challenge/2015/training/')"
   ]
  },
  {
   "cell_type": "code",
   "execution_count": null,
   "metadata": {
    "collapsed": false
   },
   "outputs": [],
   "source": [
    "# Demo 2 - Read certain channels and sections of the WFDB record using the simplified 'srdsamp' function\n",
    "# which returns a numpy array and a dictionary. Show the data.\n",
    "signals, fields=wfdb.srdsamp('sampledata/s0010_re', channels=[14, 0, 5, 10], sampfrom=100, sampto=15000)\n",
    "display(signals)\n",
    "display(fields)\n",
    "\n",
    "# Can also read the same files hosted on Physiobank \n",
    "signals2, fields2=wfdb.srdsamp('s0010_re', channels=[14, 0, 5, 10], sampfrom=100, sampto=15000, pbdir = 'ptbdb/patient001/')"
   ]
  },
  {
   "cell_type": "code",
   "execution_count": null,
   "metadata": {
    "collapsed": false
   },
   "outputs": [],
   "source": [
    "# Demo 3 - Read a WFDB header file only (without the signals)\n",
    "record = wfdb.rdheader('sampledata/drive02')\n",
    "display(record.__dict__)\n",
    "\n",
    "# Can also read the same file hosted on Physiobank\n",
    "record2 = wfdb.rdheader('drive02', pbdir = 'drivedb')"
   ]
  },
  {
   "cell_type": "code",
   "execution_count": null,
   "metadata": {
    "collapsed": false
   },
   "outputs": [],
   "source": [
    "# Demo 4 - Read part of a WFDB annotation file into a wfdb.Annotation object, and plot the samples\n",
    "annotation = wfdb.rdann('sampledata/100', 'atr', sampfrom = 100000, sampto = 110000)\n",
    "annotation.fs = 360\n",
    "wfdb.plotann(annotation, timeunits = 'minutes')\n",
    "\n",
    "# Can also read the same file hosted on PhysioBank \n",
    "annotation2 = wfdb.rdann('100', 'atr', sampfrom = 100000, sampto = 110000, pbdir = 'mitdb')"
   ]
  },
  {
   "cell_type": "code",
   "execution_count": null,
   "metadata": {
    "collapsed": false
   },
   "outputs": [],
   "source": [
    "# Demo 5 - Read a WFDB record and annotation. Plot all channels, and the annotation on top of channel 0.\n",
    "record = wfdb.rdsamp('sampledata/100', sampto = 15000)\n",
    "annotation = wfdb.rdann('sampledata/100', 'atr', sampto = 15000)\n",
    "\n",
    "wfdb.plotrec(record, annotation = annotation, title='Record 100 from MIT-BIH Arrhythmia Database', timeunits = 'seconds')"
   ]
  },
  {
   "cell_type": "markdown",
   "metadata": {},
   "source": [
    "### Multisegment waveform examples\n",
    "\n",
    "The following sections load and plots waveforms from the MIMIC matched waveform database. These waveforms have been matched to clinical data in the MIMIC Clinical database. The input records are multi-segment (made up of multiple individual WFDB records) and relatively long.\n",
    "\n",
    "Note that these kinds of records contain segments in which certain channels are missing. <strong>matplotlib</strong> automatically zooms in on sections without Nans in individual channels but the entire durations of the signals input into <strong>plotrec</strong> are actually plotted. \n",
    "\n"
   ]
  },
  {
   "cell_type": "code",
   "execution_count": null,
   "metadata": {
    "collapsed": false
   },
   "outputs": [],
   "source": [
    "# Demo 6 - Read the multi-segment record and plot waveforms from the MIMIC matched waveform database. \n",
    "import wfdb\n",
    "from IPython.display import display\n",
    "record=wfdb.rdsamp('sampledata/multisegment/s25047/s25047-2704-05-04-10-44')\n",
    "wfdb.plotrec(record, title='Record s25047-2704-05-04-10-44') \n",
    "display(record.__dict__)\n",
    "\n",
    "# Can also read the same files hosted on PhysioBank (takes long to stream the many large files)\n",
    "#record2 = wfdb.rdsamp('s25047-2704-05-04-10-44', pbdir = 'mimic2wdb/matched/s25047')"
   ]
  },
  {
   "cell_type": "code",
   "execution_count": null,
   "metadata": {
    "collapsed": false
   },
   "outputs": [],
   "source": [
    "# Demo 7 - Read the multi-segment record and plot waveforms from the MIMIC matched waveform database.\n",
    "# Notice that some channels have no valid values to plot\n",
    "record = wfdb.rdsamp('sampledata/multisegment/s00001/s00001-2896-10-10-00-31', sampfrom = 3000000, sampto = 4000000)\n",
    "wfdb.plotrec(record, title='Record s00001/s00001-2896-10-10-00-31') \n",
    "display(record.__dict__)\n",
    "\n",
    "# Can also read the same files hosted on PhysioBank\n",
    "record2 = wfdb.rdsamp('s00001-2896-10-10-00-31', sampfrom = 3000000, sampto = 4000000, pbdir = 'mimic2wdb/matched/s00001')"
   ]
  },
  {
   "cell_type": "markdown",
   "metadata": {},
   "source": [
    "### Writing Records and Annotations"
   ]
  },
  {
   "cell_type": "code",
   "execution_count": null,
   "metadata": {
    "collapsed": false
   },
   "outputs": [],
   "source": [
    "# Demo 8 - Read a WFDB record's digital samples and create a copy via the wrsamp() instance method \n",
    "# of the Record object.\n",
    "\n",
    "# Read a record as a Record object.\n",
    "record = wfdb.rdsamp('sampledata/100', physical = False)\n",
    "record.recordname = '100x'\n",
    "\n",
    "# Call the instance method of the object\n",
    "record.wrsamp()\n",
    "\n",
    "# The new file can be read\n",
    "recordx = wfdb.rdsamp('100x')"
   ]
  },
  {
   "cell_type": "code",
   "execution_count": null,
   "metadata": {
    "collapsed": true
   },
   "outputs": [],
   "source": [
    "# Demo 9 - Write a WFDB record without using a Record object via the gateway wrsamp function.\n",
    "# This is the basic way to write physical signals to a WFDB file. \n",
    "\n",
    "# Read part of a record from Physiobank\n",
    "sig, fields = wfdb.srdsamp('a103l', sampfrom = 50000, channels = [0,1], pbdir = 'challenge/2015/training')\n",
    "\n",
    "# Call the gateway wrsamp function, manually inserting fields as function input parameters\n",
    "wfdb.wrsamp('ecgrecord', fs = 250, units = ['mV', 'mV'], signames = ['I', 'II'], p_signals = sig, fmt = ['16', '16'])\n",
    "\n",
    "# The new file can be read\n",
    "recordecg = wfdb.rdsamp('ecgrecord')"
   ]
  },
  {
   "cell_type": "code",
   "execution_count": null,
   "metadata": {
    "collapsed": false
   },
   "outputs": [],
   "source": [
    "# Demo 10 - Read a WFDB annotation file and create a copy via the wrann() instance method\n",
    "# of the Annotation object\n",
    "\n",
    "# Read an annotation from Physiobank\n",
    "annotation = wfdb.rdann('sampledata/100', 'atr')\n",
    "annotation.annotator = 'cpy'\n",
    "\n",
    "# Call the instance method of the object\n",
    "annotation.wrann()\n",
    "\n",
    "# The new file can be read\n",
    "ann100copy = wfdb.rdann('100', 'cpy')"
   ]
  },
  {
   "cell_type": "code",
   "execution_count": null,
   "metadata": {
    "collapsed": true
   },
   "outputs": [],
   "source": [
    "# Demo 11 - Write a WFDB annotation file without using an Annotator object via the gateway wrann function.\n",
    "\n",
    "# Read an annotation as an Annotation object\n",
    "annotation = wfdb.rdann('b001', 'atr', pbdir='cebsdb')\n",
    "\n",
    "# Call the gateway wrann function, manually inserting fields as function input parameters\n",
    "wfdb.wrann('b001', 'cpy', annotation.annsamp, annotation.anntype)\n",
    "\n",
    "# The new file can be read\n",
    "annbcopy = wfdb.rdann('b001', 'cpy')"
   ]
  },
  {
   "cell_type": "code",
   "execution_count": null,
   "metadata": {
    "collapsed": false
   },
   "outputs": [],
   "source": [
    "# Demo 12 - View what the 'anntype' symbols mean in the standard WFDB library\n",
    "wfdb.showanncodes()"
   ]
  },
  {
   "cell_type": "markdown",
   "metadata": {},
   "source": [
    "### Downloading Content from Physiobank\n",
    "\n",
    "- The downloads are made via http\n",
    "- See the above demos for examples on streaming WFDB files stored in Physiobank without downloading them to local disk\n",
    "- Physionet has rsync modules for downloading entire databases for users who have access to rsync.  "
   ]
  },
  {
   "cell_type": "code",
   "execution_count": null,
   "metadata": {
    "collapsed": false
   },
   "outputs": [],
   "source": [
    "# Demo 13 - List the Physiobank Databases\n",
    "\n",
    "dbs = wfdb.getdblist()\n",
    "display(dbs)"
   ]
  },
  {
   "cell_type": "code",
   "execution_count": null,
   "metadata": {
    "collapsed": false
   },
   "outputs": [],
   "source": [
    "# Demo 14 - Download all the WFDB records and annotations from a small Physiobank Database\n",
    "\n",
    "# Make a temporary download directory in your current working directory\n",
    "cwd = os.getcwd()\n",
    "dldir = os.path.join(cwd, 'tmp_dl_dir')\n",
    "# Make sure to use a new directory\n",
    "while os.path.exists(dldir):\n",
    "    dldir = dldir+'1'\n",
    "\n",
    "# Download all the WFDB content\n",
    "wfdb.dldatabase('ahadb', dlbasedir = dldir)\n",
    "\n",
    "# Display the downloaded content in the folder\n",
    "display(os.listdir(dldir))"
   ]
  },
  {
   "cell_type": "code",
   "execution_count": null,
   "metadata": {
    "collapsed": false
   },
   "outputs": [],
   "source": [
    "# Demo 15 - Download specified files from a Physiobank database\n",
    "\n",
    "# The files to download\n",
    "filelist = ['STAFF-Studies-bibliography-2016.pdf', 'data/001a.hea', 'data/001a.dat', 'data/001b.hea', 'data/001b.dat']\n",
    "\n",
    "# Make a temporary download directory in your current working directory\n",
    "cwd = os.getcwd()\n",
    "dldir = os.path.join(cwd, 'tmp_dl_dir')\n",
    "# Make sure to use a new directory\n",
    "while os.path.exists(dldir):\n",
    "    dldir = dldir+'1'\n",
    "\n",
    "# Download the listed files\n",
    "wfdb.dldatabasefiles('staffiii', dldir, filelist)\n",
    "\n",
    "# Display the downloaded content in the folder\n",
    "display(os.listdir(dldir))\n",
    "display(os.listdir(os.path.join(dldir, 'data')))"
   ]
  },
  {
   "cell_type": "code",
   "execution_count": null,
   "metadata": {
    "collapsed": true
   },
   "outputs": [],
   "source": []
  }
 ],
 "metadata": {
  "kernelspec": {
   "display_name": "Python 3",
   "language": "python",
   "name": "python3"
  },
  "language_info": {
   "codemirror_mode": {
    "name": "ipython",
    "version": 3
   },
   "file_extension": ".py",
   "mimetype": "text/x-python",
   "name": "python",
   "nbconvert_exporter": "python",
   "pygments_lexer": "ipython3",
   "version": "3.5.2"
  }
 },
 "nbformat": 4,
 "nbformat_minor": 0
}
